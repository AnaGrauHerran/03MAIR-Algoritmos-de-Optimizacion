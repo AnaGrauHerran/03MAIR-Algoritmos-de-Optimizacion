{
 "cells": [
  {
   "cell_type": "markdown",
   "metadata": {},
   "source": [
    "# AG1- Actividad Guiada 1\n",
    "\n",
    "Ana Grau de la Herrán\n",
    "\n",
    "URL: https://github.com/AnaGrauHerran/03MAIR-Algoritmos-de-Optimizacion/tree/master/AG1"
   ]
  },
  {
   "cell_type": "code",
   "execution_count": 1,
   "metadata": {},
   "outputs": [],
   "source": [
    "#Decorador para calcular_tiempo a la función para la cual queremos calcular el tiempo de ejecución(Isabel Vázquez)\n",
    "\n",
    "from time import time\n",
    "#Función para calcular el tiempo de ejecución\n",
    "def calcular_tiempo(f):\n",
    "   \n",
    "    def wrapper(*args, **kwargs):       \n",
    "        inicio = time()       \n",
    "        resultado = f(*args, **kwargs)       \n",
    "        tiempo = time() - inicio\n",
    "        print(\"Tiempo de ejecución para algoritmo: \"+str(tiempo))\n",
    "        return resultado\n",
    "    \n",
    "    return wrapper"
   ]
  },
  {
   "cell_type": "code",
   "execution_count": 2,
   "metadata": {},
   "outputs": [
    {
     "name": "stdout",
     "output_type": "stream",
     "text": [
      "Tiempo de ejecución para algoritmo: 0.0009982585906982422\n",
      "[244, 2035, 2554, 2824, 3506, 4054, 4337, 4447, 4519, 4993, 5265, 5470, 7182, 7379, 7580, 8357, 8373, 9187, 9222]\n"
     ]
    }
   ],
   "source": [
    "#quick_sort\n",
    "\n",
    "A = [9187, 244, 4054, 9222, 8373, 4993, 5265, 5470, 4519, 7182, 2035, 3506, 4337, 7580, 2554, 2824, 8357, 4447, 7379]\n",
    "\n",
    "def quick_sort(lista):\n",
    "    # Calcular tamaño de la lista\n",
    "    size = len(lista)\n",
    "    \n",
    "    # Si la lista tiene un elemento\n",
    "    # o es vacía devolverla tal cual\n",
    "    if size == 1 or size == 0:\n",
    "        return lista\n",
    "    # Si la lista tiene dos elementos se puede\n",
    "    # ordenar facilmente con la función máximo y mínimo\n",
    "    if size == 2:\n",
    "        return [min(lista), max(lista)]\n",
    "    \n",
    "    # Crear listas auxiliares\n",
    "    izquierda = []\n",
    "    derecha=[]\n",
    "    \n",
    "    # Calcular pivote\n",
    "    pivote = (lista[0] + lista[1] + lista[2])/3 #otra opción pivote max(A)-min(A)/2\n",
    "\n",
    "    # Para cada elemento de la lista, si es menor al pivote\n",
    "    # va a la lista de la izquiera y la derecha si es mayor\n",
    "    for elemento in lista:\n",
    "        if elemento < pivote:\n",
    "            izquierda.append(elemento)\n",
    "        else:\n",
    "            derecha.append(elemento)\n",
    "    \n",
    "    # Se hace recursión sobre las dos listas auxiliares\n",
    "    # la solución es la unión de esas dos listas\n",
    "    return quick_sort(izquierda) + quick_sort(derecha)\n",
    "\n",
    "@calcular_tiempo\n",
    "def QS(lista):\n",
    "    return quick_sort(lista)\n",
    "\n",
    "print(QS(A))\n",
    "\n",
    "# Ecuaciones:\n",
    "# T(n) = 2T(n/2) + n\n",
    "# 2 llamadas recursivas a la \"mitad\" de la lista <- pivote es la mediana\n",
    "# + n es el loop de la lista para dividirla en las dos listas\n",
    "# k = c = 1. Se ha hecho solo un recorrido o loop. Si fuera mediana, serían dos recorridos o c = 2.\n",
    "# k es para bucles dobles o anidados(n*n)"
   ]
  },
  {
   "cell_type": "code",
   "execution_count": 3,
   "metadata": {},
   "outputs": [
    {
     "name": "stdout",
     "output_type": "stream",
     "text": [
      "Tiempo de ejecución para algoritmo: 0.0\n"
     ]
    },
    {
     "data": {
      "text/plain": [
       "[1, 1, 1, 1]"
      ]
     },
     "execution_count": 3,
     "metadata": {},
     "output_type": "execute_result"
    }
   ],
   "source": [
    "# Problema: Cambio de monedas\n",
    "\n",
    "sistema_monetario = [25, 10, 5, 1]\n",
    "\n",
    "@calcular_tiempo\n",
    "def cambio_monedas(cantidad, sistema):\n",
    "    # asegurarnos que el sistema monetario está\n",
    "    # ordenado de mayor a menor\n",
    "    sistema.sort(reverse = True) \n",
    "    solucion = [0 for i in range(len(sistema))]\n",
    "    \n",
    "    valor_acumulado = 0\n",
    "    \n",
    "    for i in range(len(sistema)):\n",
    "        monedas = int((cantidad - valor_acumulado)/sistema[i])\n",
    "        solucion[i] = monedas\n",
    "        valor_acumulado += monedas * sistema[i] \n",
    "        \n",
    "        if (cantidad == valor_acumulado):\n",
    "            return solucion\n",
    "        \n",
    "cambio_monedas(41, sistema_monetario)"
   ]
  },
  {
   "cell_type": "code",
   "execution_count": 4,
   "metadata": {},
   "outputs": [
    {
     "name": "stdout",
     "output_type": "stream",
     "text": [
      "Los posibles resultados para 4 reinas son:\n",
      "\n",
      "\n",
      "Solución:\n",
      "[2, 4, 1, 3]\n",
      "\n",
      " -  -  X  - \n",
      " X  -  -  - \n",
      " -  -  -  X \n",
      " -  X  -  - \n",
      "\n",
      "\n",
      "Solución:\n",
      "[3, 1, 4, 2]\n",
      "\n",
      " -  X  -  - \n",
      " -  -  -  X \n",
      " X  -  -  - \n",
      " -  -  X  - \n",
      "Tiempo de ejecución para algoritmo: 0.002997159957885742\n"
     ]
    }
   ],
   "source": [
    "# Problema de las N reinas\n",
    "\n",
    "def es_prometedora(solucion, etapa):\n",
    "    for i in range(etapa+1):\n",
    "        if solucion.count(solucion[i]) > 1:\n",
    "            return False\n",
    "        for j in range(i+1, etapa +1):\n",
    "            if abs(i-j) == abs(solucion[i]-solucion[j]):\n",
    "                return False\n",
    "    return True\n",
    "\n",
    "def dibujar_tablero(tablero):\n",
    "    n = len(tablero)\n",
    "    for x in range(n):\n",
    "        print(\"\")\n",
    "        for i in range(n):\n",
    "            if tablero[i] == x+1:\n",
    "                print(\" X \", end = \"\")\n",
    "            else:\n",
    "                print(\" - \", end=\"\")\n",
    "    print(\"\")\n",
    "    \n",
    "def reinas(N, solucion, etapa):  \n",
    "    for i in range (1, N+1):\n",
    "        solucion[etapa] = i\n",
    "        \n",
    "        if es_prometedora(solucion, etapa):\n",
    "            if etapa == N-1:\n",
    "                print(\"\\n\\nSolución:\")\n",
    "                print(solucion)\n",
    "                dibujar_tablero(solucion)\n",
    "            else:\n",
    "                reinas(N, solucion, etapa+1)\n",
    "    \n",
    "        solucion[etapa] = 0\n",
    "\n",
    "@calcular_tiempo\n",
    "def calcular_reinas(N):\n",
    "    print(\"Los posibles resultados para \" + str(N) + \" reinas son:\")\n",
    "    reinas(N, [0 for i in range(N)], 0)\n",
    "\n",
    "calcular_reinas(4)"
   ]
  },
  {
   "cell_type": "code",
   "execution_count": null,
   "metadata": {},
   "outputs": [],
   "source": []
  }
 ],
 "metadata": {
  "kernelspec": {
   "display_name": "Python 3",
   "language": "python",
   "name": "python3"
  },
  "language_info": {
   "codemirror_mode": {
    "name": "ipython",
    "version": 3
   },
   "file_extension": ".py",
   "mimetype": "text/x-python",
   "name": "python",
   "nbconvert_exporter": "python",
   "pygments_lexer": "ipython3",
   "version": "3.7.0"
  }
 },
 "nbformat": 4,
 "nbformat_minor": 2
}
